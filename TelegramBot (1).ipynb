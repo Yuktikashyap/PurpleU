{
  "nbformat": 4,
  "nbformat_minor": 0,
  "metadata": {
    "colab": {
      "provenance": []
    },
    "kernelspec": {
      "name": "python3",
      "display_name": "Python 3"
    },
    "language_info": {
      "name": "python"
    }
  },
  "cells": [
    {
      "cell_type": "code",
      "source": [
        "!pip install python-telegram-bot==12.0.0b1 --upgrade"
      ],
      "metadata": {
        "colab": {
          "base_uri": "https://localhost:8080/"
        },
        "id": "c4d-0vE8gLrg",
        "outputId": "676d823f-541e-4f84-d495-4ec98e10342a"
      },
      "execution_count": null,
      "outputs": [
        {
          "output_type": "stream",
          "name": "stdout",
          "text": [
            "Looking in indexes: https://pypi.org/simple, https://us-python.pkg.dev/colab-wheels/public/simple/\n",
            "Collecting python-telegram-bot==12.0.0b1\n",
            "  Downloading python_telegram_bot-12.0.0b1-py2.py3-none-any.whl (341 kB)\n",
            "\u001b[2K     \u001b[90m━━━━━━━━━━━━━━━━━━━━━━━━━━━━━━━━━━━━━━\u001b[0m \u001b[32m341.3/341.3 KB\u001b[0m \u001b[31m14.4 MB/s\u001b[0m eta \u001b[36m0:00:00\u001b[0m\n",
            "\u001b[?25hRequirement already satisfied: certifi in /usr/local/lib/python3.8/dist-packages (from python-telegram-bot==12.0.0b1) (2022.12.7)\n",
            "Requirement already satisfied: tornado>=5.1 in /usr/local/lib/python3.8/dist-packages (from python-telegram-bot==12.0.0b1) (6.0.4)\n",
            "Requirement already satisfied: future>=0.16.0 in /usr/local/lib/python3.8/dist-packages (from python-telegram-bot==12.0.0b1) (0.16.0)\n",
            "Collecting cryptography\n",
            "  Downloading cryptography-39.0.0-cp36-abi3-manylinux_2_28_x86_64.whl (4.2 MB)\n",
            "\u001b[2K     \u001b[90m━━━━━━━━━━━━━━━━━━━━━━━━━━━━━━━━━━━━━━━━\u001b[0m \u001b[32m4.2/4.2 MB\u001b[0m \u001b[31m67.6 MB/s\u001b[0m eta \u001b[36m0:00:00\u001b[0m\n",
            "\u001b[?25hRequirement already satisfied: cffi>=1.12 in /usr/local/lib/python3.8/dist-packages (from cryptography->python-telegram-bot==12.0.0b1) (1.15.1)\n",
            "Requirement already satisfied: pycparser in /usr/local/lib/python3.8/dist-packages (from cffi>=1.12->cryptography->python-telegram-bot==12.0.0b1) (2.21)\n",
            "Installing collected packages: cryptography, python-telegram-bot\n",
            "Successfully installed cryptography-39.0.0 python-telegram-bot-12.0.0b1\n"
          ]
        }
      ]
    },
    {
      "cell_type": "code",
      "execution_count": null,
      "metadata": {
        "id": "BqDXlC1Jf2yD"
      },
      "outputs": [],
      "source": [
        "import telegram.ext\n",
        "import os\n",
        "\n",
        "def start(update,context):\n",
        "\n",
        "    update.message.reply_text(\"Hello!! Welcome to the BTS On - #IPurpleU\")\n",
        "    help(update,context)\n",
        "\n",
        "\n",
        "def bias(update,context):\n",
        "\n",
        "   update.message.reply_text('''We don't judge but everyone one is Unqie in thier own way\n",
        "   For instagram handles type the following commands\n",
        "     /Rm\n",
        "     /Jin\n",
        "     /Suga\n",
        "     /JHope\n",
        "     /V\n",
        "     /Jimin\n",
        "     /Junkook\n",
        "     ''')\n",
        "\n",
        "\n",
        "def music(update,context):\n",
        "    update.message.reply_text('''BTS On - #IPurpleU\n",
        "    Playlist you may find intersting - https://open.spotify.com/artist/3Nrfpe0tUJi4K4DXYWgMUX''')\n",
        "\n",
        "def Rm(update,context):\n",
        "     update.message.reply_text(\"The insta id for your Bias is : https://www.instagram.com/rkive/\")\n",
        "def Jin(update,context):\n",
        "     update.message.reply_text(\"The insta id for your Bias is : https://www.instagram.com/jin/\")\n",
        "def Suga(update,context):\n",
        "    update.message.reply_text(\"The insta id for your Bias is : https://www.instagram.com/agustd\")\n",
        "def JHope(update,context):\n",
        "     update.message.reply_text(\"The insta id for your Bias is : https://www.instagram.com/uarmyhope\")\n",
        "def V(update,context):\n",
        "     update.message.reply_text(\"The insta id for your Bias is : https://www.instagram.com/thv/\")\n",
        "def Jimin(update,context):\n",
        "    update.message.reply_text(\"The insta id for your Bias is : https://www.instagram.com/j.m/\")\n",
        "def Junkook(update,context):\n",
        "    update.message.reply_text(\"The insta id for your Bias is : https://www.instagram.com/jungkook.97/\")\n",
        "\n",
        "\n",
        "\n",
        "def latestUpdates(update,context):\n",
        "    update.message.reply_text('''For the latest Updates you can also refer to the oficial handles of Big Hits\n",
        "\n",
        "    Website -> https://ibighit.com/\n",
        "    Instagram -> https://www.instagram.com/bts.bighitofficial/\n",
        "    Twitter -> https://twitter.com/bighit_music\n",
        "    Facebook -> https://www.facebook.com/BIGHIT.MUSIC''')\n",
        "\n",
        "\n",
        "\n",
        "def help(update,context):\n",
        "    update.message.reply_text('''\n",
        "\n",
        "    /start - starting with your conversation\n",
        "    /music - Getting close with BTS Song List\n",
        "    /bias - What's Your choice - we don't judge so be chill\n",
        "    /latestUpdates - Be first to know what's going on\n",
        "    /help - Stuck somewhere - We got u don't worry\n",
        "    /bye - Exit your conversation\n",
        "\n",
        "    ''')\n",
        "\n",
        "def bye(update,context):\n",
        "\n",
        "  update.message.reply_text(\"Thanks For Using PurpleU.... Let's Meet and Talk again\n",
        "\n",
        "Token = (\"5824325843:AAH8WUH-3jUA8L71IvHB4UfAfljJejpFB7U\") # api key by bot father\n",
        "\n",
        "updater = telegram.ext.Updater(\"5824325843:AAH8WUH-3jUA8L71IvHB4UfAfljJejpFB7U\", use_context=True)\n",
        "disp = updater.dispatcher\n",
        "disp.add_handler(telegram.ext.CommandHandler(\"start\",start))\n",
        "\n",
        "disp.add_handler(telegram.ext.CommandHandler(\"bias\",bias))\n",
        "disp.add_handler(telegram.ext.CommandHandler(\"latestUpdates\",latestUpdates))\n",
        "disp.add_handler(telegram.ext.CommandHandler(\"help\",help))\n",
        "disp.add_handler(telegram.ext.CommandHandler(\"Rm\",Rm))\n",
        "disp.add_handler(telegram.ext.CommandHandler(\"Suga\",Suga))\n",
        "disp.add_handler(telegram.ext.CommandHandler(\"Jimin\",Jimin))\n",
        "disp.add_handler(telegram.ext.CommandHandler(\"JHope\",JHope))\n",
        "disp.add_handler(telegram.ext.CommandHandler(\"V\",V))\n",
        "disp.add_handler(telegram.ext.CommandHandler(\"Junkook\",Junkook))\n",
        "disp.add_handler(telegram.ext.CommandHandler(\"Jin\",Jin))\n",
        "disp.add_handler(telegram.ext.CommandHandler(\"bye\",bye))\n",
        "disp.add_handler(telegram.ext.CommandHandler(\"music\",music))\n",
        "\n",
        "\n",
        "updater.start_polling()\n",
        "updater.idle()"
      ]
    }
  ]
}